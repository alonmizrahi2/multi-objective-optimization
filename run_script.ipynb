{
  "cells": [
    {
      "cell_type": "markdown",
      "metadata": {
        "id": "tPJ5nG9GLpGA"
      },
      "source": [
        "# Optimization Project - Runs file"
      ]
    },
    {
      "cell_type": "markdown",
      "metadata": {
        "id": "Yhze6y4wLoip"
      },
      "source": [
        "## Import libraries"
      ]
    },
    {
      "cell_type": "code",
      "execution_count": 1,
      "metadata": {
        "id": "OGcg9eDuhRwh"
      },
      "outputs": [],
      "source": [
        "import pandas as pd\n",
        "import numpy as np\n",
        "import matplotlib.pyplot as plt\n",
        "import scipy\n",
        "from scipy import stats\n",
        "import pickle\n",
        "\n",
        "from pandas import read_csv\n",
        "from sklearn.model_selection import train_test_split\n",
        "from sklearn.preprocessing import LabelEncoder\n",
        "from sklearn.metrics import confusion_matrix\n",
        "from sklearn.metrics import classification_report\n",
        "from sklearn.metrics import accuracy_score\n",
        "\n",
        "from tensorflow.keras import Sequential\n",
        "from tensorflow.keras.layers import Dense\n",
        "from tensorflow.keras import initializers\n",
        "from tensorflow.random import set_seed\n"
      ]
    },
    {
      "cell_type": "code",
      "execution_count": 2,
      "metadata": {
        "id": "bE91eAIPBD1s"
      },
      "outputs": [],
      "source": [
        "from pymoo.algorithms.moo.nsga2 import NSGA2\n",
        "from pymoo.problems import get_problem\n",
        "from pymoo.optimize import minimize\n",
        "from pymoo.visualization.scatter import Scatter\n",
        "from pymoo.core.problem import Problem\n",
        "\n",
        "\n",
        "from pymoo.core.problem import ElementwiseProblem\n",
        "from pymoo.core.variable import Real, Integer, Choice, Binary\n",
        "\n",
        "from pymoo.operators.sampling.rnd import IntegerRandomSampling\n",
        "\n",
        "from pymoo.util.display.column import Column\n",
        "from pymoo.util.display.output import Output\n",
        "from pymoo.core.callback import Callback\n",
        "\n",
        "from pymoo.indicators.igd import IGD\n",
        "from pymoo.indicators.hv import HV\n",
        "\n",
        "from pymoo.algorithms.moo.moead import MOEAD\n",
        "from pymoo.util.ref_dirs import get_reference_directions\n",
        "\n"
      ]
    },
    {
      "cell_type": "markdown",
      "metadata": {
        "id": "0Kta3E0mAmJ0"
      },
      "source": [
        "## Load Data"
      ]
    },
    {
      "cell_type": "code",
      "execution_count": 3,
      "metadata": {
        "id": "EP4CajlJAlJw"
      },
      "outputs": [],
      "source": [
        "# load the dataset\n",
        "train_path = \"classification_data_5_hand_gestures/train_data_norm.csv\"\n",
        "test_path = \"classification_data_5_hand_gestures/test_data_norm.csv\"\n",
        "train_df = read_csv(train_path)\n",
        "test_df = read_csv(test_path)"
      ]
    },
    {
      "cell_type": "code",
      "execution_count": 4,
      "metadata": {
        "id": "ps5yWmX3Arb3"
      },
      "outputs": [],
      "source": [
        "# Reduction and shuffle the data\n",
        "train_df = train_df.iloc[:,1:]\n",
        "test_df = test_df.iloc[:,1:]\n",
        "train_data = pd.DataFrame(train_df.iloc[0,:])\n",
        "test_data = pd.DataFrame(test_df.iloc[0,:])\n",
        "train_data = train_data.T\n",
        "test_data = test_data.T\n",
        "for i in range(len(train_df)):\n",
        "  if(i%30 == 0):\n",
        "    train_data = train_data.append(train_df.iloc[i,:])\n",
        "for j in range(len(test_df)):\n",
        "  if(j%30 == 0):\n",
        "    test_data = test_data.append(test_df.iloc[j,:])\n",
        "train_data = train_data.iloc[1:,:]\n",
        "test_data = test_data.iloc[1:,:]\n",
        "#shuffle:\n",
        "train_data = train_data.sample(frac=1).reset_index(drop=True)\n",
        "test_data = test_data.sample(frac=1).reset_index(drop=True)\n",
        "# train data = 1000 samples\n",
        "# test data = 250 samples"
      ]
    },
    {
      "cell_type": "code",
      "execution_count": 5,
      "metadata": {
        "colab": {
          "base_uri": "https://localhost:8080/"
        },
        "id": "-YFEYipHA1Eg",
        "outputId": "76766184-9822-4fb4-f2e6-7bda75a4be31"
      },
      "outputs": [
        {
          "name": "stdout",
          "output_type": "stream",
          "text": [
            "(1000, 28) (1000,) (250, 28) (250,)\n"
          ]
        }
      ],
      "source": [
        "# encode the data\n",
        "X_train = train_data.iloc[:, :-1].values\n",
        "y_train = train_data.iloc[:, -1].values\n",
        "\n",
        "X_test = test_data.iloc[:, :-1].values\n",
        "y_test = test_data.iloc[:, -1].values\n",
        "print(X_train.shape, y_train.shape, X_test.shape, y_test.shape)"
      ]
    },
    {
      "cell_type": "markdown",
      "metadata": {
        "id": "kRaYKYmNAvuf"
      },
      "source": [
        "## Objective Function"
      ]
    },
    {
      "cell_type": "code",
      "execution_count": 6,
      "metadata": {
        "id": "4m03P3nq9G0D"
      },
      "outputs": [],
      "source": [
        "# Objective Function - build neural network, fit the net, and check accuracy on test data\n",
        "def obj_func(n_first_layer ,n_hidden ,s_hidden): \n",
        "  set_seed(5)\n",
        "  # define model\n",
        "  model = Sequential()\n",
        "  model.add(Dense(n_first_layer, input_dim=28, activation='relu', input_shape=(28,))) #,kernel_initializer=initializers.Zeros\n",
        "  for i in range(n_hidden):\n",
        "    model.add(Dense(s_hidden, activation='relu'))\n",
        "  model.add(Dense(5, activation='softmax'))\n",
        "  # model.summary()\n",
        "  trainableParams = np.sum([np.prod(v.get_shape()) for v in model.trainable_weights])\n",
        "  nonTrainableParams = np.sum([np.prod(v.get_shape()) for v in model.non_trainable_weights])\n",
        "  totalParams = trainableParams + nonTrainableParams\n",
        "\n",
        "  # compile the model\n",
        "  model.compile(optimizer='adam', loss='sparse_categorical_crossentropy', metrics=['accuracy']) \n",
        "  # fit the model\n",
        "  model.fit(X_train, y_train, epochs=50, batch_size=20, verbose=0)\n",
        "  # evaluate the model\n",
        "  loss, acc = model.evaluate(X_test, y_test, verbose=0)\n",
        "  \n",
        "  return(totalParams,round(acc*100,2))\n"
      ]
    },
    {
      "cell_type": "code",
      "execution_count": 7,
      "metadata": {
        "id": "fbbC88rq1Zk5"
      },
      "outputs": [],
      "source": [
        "#### for check - check the variance between runs\n",
        "# for j in range(1):\n",
        "#   # for k in range(5):\n",
        "#     n_hidden = 1\n",
        "#     s_hidden = 1\n",
        "#     n_first_layer = 1 \n",
        "#     # s_first_layer = 5\n",
        "#     num_of_param, acc = obj_func(n_first_layer,n_hidden,s_hidden)\n",
        "#     print(n_first_layer,n_hidden,s_hidden)\n",
        "#     print(num_of_param,acc)"
      ]
    },
    {
      "cell_type": "markdown",
      "metadata": {
        "id": "44T5RCaRlY0I"
      },
      "source": [
        "## Define utility classes"
      ]
    },
    {
      "cell_type": "code",
      "execution_count": 8,
      "metadata": {
        "id": "Oj09qSdeUDVN"
      },
      "outputs": [],
      "source": [
        "# print in every iteration at the minimize\n",
        "class MyOutput(Output):\n",
        "\n",
        "    def __init__(self):\n",
        "        super().__init__()\n",
        "        self.acc_ = Column(\"best acc\", width=10)\n",
        "        self.acc_w = Column(\"worst acc\", width=10)\n",
        "        self.par_ = Column(\"best params\", width=10)\n",
        "        self.par_w = Column(\"worst params\", width=10)\n",
        "        self.columns += [self.acc_, self.acc_w, self.par_, self.par_w]\n",
        "\n",
        "    def update(self, algorithm):\n",
        "        super().update(algorithm)\n",
        "        res = algorithm.pop.get(\"F\")\n",
        "        res = np.round(res, 2)\n",
        "        self.acc_.set(f'{np.min(res[:,0]):.2f}')\n",
        "        self.acc_w.set(f'{np.max(res[:,0]):.2f}')\n",
        "        self.par_.set(f'{np.min(res[:,1]):.0f}')\n",
        "        self.par_w.set(f'{np.max(res[:,1]):.0f}')\n",
        "        plt.scatter(res[:,0],res[:,1])\n",
        "        plt.draw() # show()\n"
      ]
    },
    {
      "cell_type": "code",
      "execution_count": 9,
      "metadata": {
        "id": "byRNzJridwYS"
      },
      "outputs": [],
      "source": [
        "# save data for plots after the minimize\n",
        "class MyCallback(Callback):\n",
        "\n",
        "    def __init__(self) -> None:\n",
        "        super().__init__()\n",
        "        self.data[\"best\"] = []\n",
        "        self.index = 1\n",
        "        self.data_history = pd.DataFrame(columns=['Gen' ,'Design_1', 'Design_2', 'Design_3', 'Objective_1', 'Objective_2'])\n",
        "\n",
        "    def notify(self, algorithm):\n",
        "        self.data[\"best\"].append(algorithm.pop.get(\"F\").min())\n",
        "        self.data_history = self.data_history.append({'Gen': self.index, 'Design_1':  np.round(algorithm.pop.get(\"X\")[:,0],0),\n",
        "                                                      'Design_2':  np.round(algorithm.pop.get(\"X\")[:,1],0),\n",
        "                                                      'Design_3':  np.round(algorithm.pop.get(\"X\")[:,2],0),\n",
        "                                                      'Objective_1':  algorithm.pop.get(\"F\")[:,0],\n",
        "                                                      'Objective_2':  algorithm.pop.get(\"F\")[:,1]}, ignore_index=True)\n",
        "        self.index = self.index + 1\n"
      ]
    },
    {
      "cell_type": "markdown",
      "metadata": {
        "id": "jf_e_k-7licK"
      },
      "source": [
        "## Define The Problem\n",
        "\n",
        "* design parameters = n_hidden [1,50] , s_hidden[1,100]\n",
        "\n",
        "* objective = total parameters[431,<500K] , accuracy[0,100]"
      ]
    },
    {
      "cell_type": "code",
      "execution_count": 10,
      "metadata": {
        "id": "xkEtQJeCBNQ-"
      },
      "outputs": [],
      "source": [
        "# problem class\n",
        "class Net_Struct_Problem(Problem):\n",
        "      def __init__(self, **kwargs):\n",
        "          super().__init__(n_var=3, n_obj=2, n_ieq_constr=0,xl=[1, 1, 1], xu=[14,50,100], vtype=int)\n",
        "          \n",
        "      def _evaluate(self, X, out, *args, **kwargs):\n",
        "          num_params = []\n",
        "          acc_ = []\n",
        "          X = np.round(X)\n",
        "          for x in X:\n",
        "            f, n, s = int(x[0]), int(x[1]), int(x[2])\n",
        "            t_param, acc = obj_func(f, n, s)\n",
        "            acc_.append(acc)\n",
        "            num_params.append(t_param)\n",
        "          acc_ = np.array(acc_)\n",
        "          num_params = np.array(num_params)\n",
        "          out['F'] =  [-acc_, num_params]\n"
      ]
    },
    {
      "cell_type": "markdown",
      "metadata": {
        "id": "YKngNl5AmEBw"
      },
      "source": [
        "## Define algorithm parameters"
      ]
    },
    {
      "cell_type": "code",
      "execution_count": 11,
      "metadata": {
        "id": "Khv3TRGemDvu"
      },
      "outputs": [],
      "source": [
        "num_of_generations = 10\n",
        "population_size = 30\n",
        "# (10*30 = 27min nsga2, = 31min moead)\n",
        "# (10*40 = min nsga2, = min moead)"
      ]
    },
    {
      "cell_type": "markdown",
      "metadata": {
        "id": "dt1ram6PmjnY"
      },
      "source": [
        "## Run The Algorithms"
      ]
    },
    {
      "cell_type": "markdown",
      "metadata": {
        "id": "U0B6VFPOLNq3"
      },
      "source": [
        "### NSGA2"
      ]
    },
    {
      "cell_type": "code",
      "execution_count": 11,
      "metadata": {
        "id": "v_Gb9VeaAAml"
      },
      "outputs": [],
      "source": [
        "def nsga_():\n",
        "  num_of_generations = 40\n",
        "  population_size = 160\n",
        "  problem = Net_Struct_Problem()\n",
        "\n",
        "  algorithm_n = NSGA2(pop_size=population_size)\n",
        "\n",
        "  stop_criteria = ('n_gen', num_of_generations)\n",
        "\n",
        "  results_NSGA2 = minimize(\n",
        "      problem=problem,\n",
        "      algorithm=algorithm_n,\n",
        "      callback=MyCallback(),\n",
        "      output=MyOutput(),\n",
        "      termination=stop_criteria,\n",
        "      save_history=True,\n",
        "      verbose=True\n",
        "  )\n",
        "  return results_NSGA2\n"
      ]
    },
    {
      "cell_type": "markdown",
      "metadata": {
        "id": "j70w0Ku_FxzW"
      },
      "source": [
        "### MOEAD"
      ]
    },
    {
      "cell_type": "code",
      "execution_count": 13,
      "metadata": {
        "id": "uimnVJb0FxEH"
      },
      "outputs": [],
      "source": [
        "def moead_():  \n",
        "  num_of_generations = 10\n",
        "  population_size = 30\n",
        "  stop_criteria = ('n_gen', num_of_generations)\n",
        "  \n",
        "  problem = Net_Struct_Problem()\n",
        "\n",
        "  ref_dirs = get_reference_directions(\"uniform\", 2, n_partitions=29)\n",
        "\n",
        "  algorithm_m = MOEAD(\n",
        "      ref_dirs,\n",
        "      n_neighbors=15,\n",
        "      prob_neighbor_mating=0.7,\n",
        "  )\n",
        "\n",
        "  results_MOEAD = minimize(problem,\n",
        "                algorithm_m,\n",
        "                termination=stop_criteria,\n",
        "                # seed=1,\n",
        "                callback=MyCallback(),\n",
        "                save_history=True,\n",
        "                verbose=True)\n",
        "\n",
        "  Scatter().add(results_MOEAD.F).show()\n",
        "  return results_MOEAD"
      ]
    },
    {
      "cell_type": "code",
      "execution_count": 14,
      "metadata": {},
      "outputs": [
        {
          "name": "stdout",
          "output_type": "stream",
          "text": [
            "========================================================================\n",
            "n_gen  |  n_eval  |  best acc  | worst acc  | best params | worst params\n",
            "========================================================================\n",
            "     1 |      120 |     -95.60 |     -20.00 |        147 |     421707\n",
            "     2 |      240 |     -98.00 |     -20.00 |        147 |     251962\n",
            "     3 |      360 |     -98.00 |     -20.00 |        125 |     251962\n",
            "     4 |      480 |     -98.00 |     -20.00 |         66 |     251962\n",
            "     5 |      600 |     -98.00 |     -20.00 |         66 |     251962\n",
            "     6 |      720 |     -98.00 |     -20.00 |         48 |     251962\n",
            "     7 |      840 |     -98.00 |     -20.00 |         48 |     251962\n",
            "     8 |      960 |     -98.00 |     -20.00 |         45 |     251962\n",
            "     9 |     1080 |     -98.00 |     -20.00 |         45 |     251962\n",
            "    10 |     1200 |     -98.80 |     -20.00 |         41 |     251962\n",
            "    11 |     1320 |     -98.80 |     -20.00 |         41 |     251962\n",
            "    12 |     1440 |     -98.80 |     -20.00 |         41 |     251962\n",
            "    13 |     1560 |     -98.80 |     -20.00 |         41 |     251962\n",
            "    14 |     1680 |     -98.80 |     -20.00 |         41 |     251962\n",
            "    15 |     1800 |     -98.80 |     -20.00 |         41 |     251962\n",
            "    16 |     1920 |     -98.80 |     -20.00 |         41 |     251962\n",
            "    17 |     2040 |     -98.80 |     -20.00 |         41 |     251962\n",
            "    18 |     2160 |     -98.80 |     -20.00 |         41 |     251962\n",
            "    19 |     2280 |     -98.80 |     -20.00 |         41 |     251962\n",
            "    20 |     2400 |     -98.80 |     -49.60 |         41 |     251962\n",
            "    21 |     2520 |     -98.80 |     -53.20 |         41 |     251962\n",
            "    22 |     2640 |     -98.80 |     -53.20 |         41 |     251962\n",
            "    23 |     2760 |     -98.80 |     -53.60 |         41 |     251962\n",
            "    24 |     2880 |     -98.80 |     -58.80 |         41 |     251962\n",
            "    25 |     3000 |     -98.80 |     -58.80 |         41 |     251962\n",
            "    26 |     3120 |     -99.20 |     -58.80 |         41 |     251962\n",
            "    27 |     3240 |     -99.20 |     -58.80 |         41 |     251962\n",
            "    28 |     3360 |     -99.20 |     -58.80 |         41 |     251962\n",
            "    29 |     3480 |     -99.20 |     -60.80 |         41 |     251962\n",
            "    30 |     3600 |     -99.20 |     -62.00 |         41 |     251962\n"
          ]
        },
        {
          "data": {
            "image/png": "[encoded data removed]",
            "text/plain": [
              "<Figure size 432x288 with 1 Axes>"
            ]
          },
          "metadata": {
            "needs_background": "light"
          },
          "output_type": "display_data"
        }
      ],
      "source": [
        "for i in range(1):\n",
        "  results_NSGA2 = nsga_() \n",
        "  # results_MOEAD = moead_()\n",
        "  # Save the object to a file using pickle\n",
        "  with open(f'res_nsga_long_run_3.pkl', 'wb') as f:\n",
        "    pickle.dump(results_NSGA2, f)\n",
        "\n",
        "  # with open(f'res_moead_{i+21}.pkl', 'wb') as l:\n",
        "  #   pickle.dump(results_MOEAD, l)"
      ]
    },
    {
      "cell_type": "code",
      "execution_count": 19,
      "metadata": {},
      "outputs": [
        {
          "name": "stdout",
          "output_type": "stream",
          "text": [
            "30.34190300703049\n",
            "20.521171581745147\n"
          ]
        }
      ],
      "source": [
        "print(results_NSGA2.exec_time/60)\n",
        "print(results_MOEAD.exec_time/60)"
      ]
    },
    {
      "cell_type": "markdown",
      "metadata": {
        "id": "HlEyt_OeLUh_"
      },
      "source": [
        "## Results"
      ]
    },
    {
      "cell_type": "markdown",
      "metadata": {
        "id": "XvgMCDD9K42S"
      },
      "source": [
        "### NSGA2 Result"
      ]
    },
    {
      "cell_type": "code",
      "execution_count": null,
      "metadata": {
        "id": "Wh65YeHWxYT9"
      },
      "outputs": [],
      "source": [
        "# results_NSGA2.pop.get(\"F\")"
      ]
    },
    {
      "cell_type": "code",
      "execution_count": null,
      "metadata": {
        "id": "_q4XlvvIycqM"
      },
      "outputs": [],
      "source": [
        "# val = results_NSGA2.algorithm.callback.data_history\n",
        "# val"
      ]
    },
    {
      "cell_type": "code",
      "execution_count": null,
      "metadata": {
        "id": "n6jrFJM_4Epu"
      },
      "outputs": [],
      "source": [
        "def from_pymoo_to_des_obj(results): # (for gen 1)\n",
        "  des_1 = results.algorithm.callback.data_history['Design_1']\n",
        "  des_1 = des_1[0][:]\n",
        "  des_2 = results.algorithm.callback.data_history['Design_2']\n",
        "  des_2 = des_2[0][:]\n",
        "  des_3 = results.algorithm.callback.data_history['Design_3']\n",
        "  des_3 = des_3[0][:]\n",
        "  obj_1 = results.algorithm.callback.data_history['Objective_1']\n",
        "  obj_1 = obj_1[0][:]\n",
        "  obj_2 = results.algorithm.callback.data_history['Objective_2']\n",
        "  obj_2 = obj_2[0][:]\n",
        "  return des_1,des_2,des_3,obj_1,obj_2"
      ]
    },
    {
      "cell_type": "code",
      "execution_count": null,
      "metadata": {
        "id": "ziPdDr_M4FYz"
      },
      "outputs": [],
      "source": [
        "des_1,des_2,des_3,obj_1,obj_2 = from_pymoo_to_des_obj(results_NSGA2) "
      ]
    },
    {
      "cell_type": "code",
      "execution_count": null,
      "metadata": {
        "colab": {
          "base_uri": "https://localhost:8080/",
          "height": 466
        },
        "id": "KbHGuE-r4FVL",
        "outputId": "70639a7c-3b40-4378-ca74-97ab58b70bac"
      },
      "outputs": [],
      "source": [
        "# Create the figure and axes for the 3D plot\n",
        "fig = plt.figure(figsize=(12,8))\n",
        "ax = fig.add_subplot(111,projection='3d')\n",
        "ax.scatter(des_1, des_2, des_3,color=['blue'], marker=\"s\")\n",
        "ax.set_xlabel('Size first layer',fontsize=16)\n",
        "ax.set_ylabel('Number hidden layers',fontsize=16)\n",
        "ax.set_zlabel('Size hidden layers',fontsize=16)\n",
        "ax.set_title('Design Space',fontsize=20) #NSGA2\\n\n",
        "# plt.savefig('nsga_des.png')\n",
        "plt.show()"
      ]
    },
    {
      "cell_type": "code",
      "execution_count": null,
      "metadata": {
        "colab": {
          "base_uri": "https://localhost:8080/",
          "height": 468
        },
        "id": "HgbMv3hi4FQA",
        "outputId": "d4bb4d4b-d6de-4b57-a196-285d1bc93c13"
      },
      "outputs": [],
      "source": [
        "fig = plt.figure(figsize=(10,7))\n",
        "ax = fig.add_subplot(111)\n",
        "ax.scatter(obj_1,obj_2, color=['blue'])\n",
        "ax.set_xlabel('-Accuracy[%]',fontsize=16)\n",
        "ax.set_ylabel('Number of parameters',fontsize=16)\n",
        "ax.set_title('Objective Space',fontsize=20)\n",
        "# plt.savefig('nsga_obj.png')\n",
        "plt.show()"
      ]
    },
    {
      "cell_type": "code",
      "execution_count": 13,
      "metadata": {
        "colab": {
          "base_uri": "https://localhost:8080/",
          "height": 468
        },
        "id": "4q8fwkCW4SNE",
        "outputId": "0abe89d1-04c8-49a9-82e0-5c1d02e81c44"
      },
      "outputs": [
        {
          "data": {
            "image/png": "[encoded data removed]",
            "text/plain": [
              "<Figure size 720x504 with 1 Axes>"
            ]
          },
          "metadata": {
            "needs_background": "light"
          },
          "output_type": "display_data"
        }
      ],
      "source": [
        "fig = plt.figure(figsize=(10,7))\n",
        "ax = fig.add_subplot(111)\n",
        "ax.scatter(results_NSGA2.F[:,0],results_NSGA2.F[:,1], color=['blue'], marker=\"*\", s=150)\n",
        "ax.set_xlabel('-Accuracy[%]',fontsize=16)\n",
        "ax.set_ylabel('Number of parameters',fontsize=16)\n",
        "ax.set_title('Pareto Front',fontsize=20)\n",
        "# plt.savefig('nsga_pareto.png')\n",
        "plt.show()"
      ]
    },
    {
      "cell_type": "markdown",
      "metadata": {
        "id": "H9zeTkD1KwV9"
      },
      "source": [
        "### MOEAD Results"
      ]
    },
    {
      "cell_type": "code",
      "execution_count": null,
      "metadata": {
        "id": "fc3hluKnJhzZ"
      },
      "outputs": [],
      "source": [
        "# val = results_MOEAD.algorithm.callback.data_history\n",
        "# val"
      ]
    },
    {
      "cell_type": "code",
      "execution_count": null,
      "metadata": {
        "id": "2Ly27P124Z_I"
      },
      "outputs": [],
      "source": [
        "des_1,des_2,des_3,obj_1,obj_2 = from_pymoo_to_des_obj(results_MOEAD) "
      ]
    },
    {
      "cell_type": "code",
      "execution_count": null,
      "metadata": {
        "colab": {
          "base_uri": "https://localhost:8080/",
          "height": 466
        },
        "id": "zNVWNh2D4Z_J",
        "outputId": "07259063-dd4b-449e-aad2-184aa925c552"
      },
      "outputs": [],
      "source": [
        "# Create the figure and axes for the 3D plot\n",
        "fig = plt.figure(figsize=(12,8))\n",
        "ax = fig.add_subplot(111,projection='3d')\n",
        "ax.scatter(des_1, des_2, des_3,color=['red'], marker=\"s\")\n",
        "ax.set_xlabel('Size first layer',fontsize=16)\n",
        "ax.set_ylabel('Number hidden layers',fontsize=16)\n",
        "ax.set_zlabel('Size hidden layers',fontsize=16)\n",
        "ax.set_title('Design Space',fontsize=20)\n",
        "plt.show()"
      ]
    },
    {
      "cell_type": "code",
      "execution_count": null,
      "metadata": {
        "colab": {
          "base_uri": "https://localhost:8080/",
          "height": 469
        },
        "id": "lKRc3zlU4Z_K",
        "outputId": "1a7997e1-1fd8-4b3b-c0fe-c7c1e0a8b4df"
      },
      "outputs": [],
      "source": [
        "fig = plt.figure(figsize=(10,7))\n",
        "ax = fig.add_subplot(111)\n",
        "ax.scatter(obj_1,obj_2, color=['red'])\n",
        "ax.set_xlabel('-Accuracy[%]',fontsize=16)\n",
        "ax.set_ylabel('Number of parameters',fontsize=16)\n",
        "ax.set_title('Objective Space',fontsize=20)\n",
        "plt.show()"
      ]
    },
    {
      "cell_type": "code",
      "execution_count": null,
      "metadata": {
        "colab": {
          "base_uri": "https://localhost:8080/",
          "height": 469
        },
        "id": "9Up_XBHE4Z_K",
        "outputId": "9293f995-ad45-430a-ed2a-4cb20c0a2ab4"
      },
      "outputs": [],
      "source": [
        "fig = plt.figure(figsize=(10,7))\n",
        "ax = fig.add_subplot(111)\n",
        "ax.scatter(results_MOEAD.F[:,0],results_MOEAD.F[:,1], color=['red'], marker=\"*\", s=150)\n",
        "ax.set_xlabel('-Accuracy[%]',fontsize=16)\n",
        "ax.set_ylabel('Number of parameters',fontsize=16)\n",
        "ax.set_title('Pareto Front',fontsize=20)\n",
        "plt.show()"
      ]
    },
    {
      "cell_type": "markdown",
      "metadata": {
        "id": "Kp7PeaL9G9l_"
      },
      "source": [
        "## Save Results"
      ]
    },
    {
      "cell_type": "code",
      "execution_count": null,
      "metadata": {
        "id": "I-SP-Bnub0JM"
      },
      "outputs": [],
      "source": [
        "# # Save the object to a file using pickle\n",
        "# with open('res_nsga_4.pkl', 'wb') as f:\n",
        "#   pickle.dump(results_NSGA2, f)\n",
        "\n",
        "# with open('res_moead_4.pkl', 'wb') as l:\n",
        "#   pickle.dump(results_MOEAD, l)\n"
      ]
    },
    {
      "cell_type": "code",
      "execution_count": null,
      "metadata": {
        "id": "7kGdB88CmMJm"
      },
      "outputs": [],
      "source": [
        "# # Load the object from the file using pickle\n",
        "# with open('res_nsga_4.pkl', 'rb') as f:\n",
        "#   loaded_nsga_data = pickle.load(f)\n",
        "# with open('res_moead_4.pkl', 'rb') as l:\n",
        "#   loaded_moead_data = pickle.load(l)\n"
      ]
    },
    {
      "cell_type": "code",
      "execution_count": null,
      "metadata": {
        "id": "eiAGOL2YcAGD"
      },
      "outputs": [],
      "source": [
        "# loaded_nsga_data.algorithm.callback.data_history"
      ]
    },
    {
      "cell_type": "code",
      "execution_count": null,
      "metadata": {
        "id": "MhPoKmpuGkD6"
      },
      "outputs": [],
      "source": [
        "# loaded_moead_data.algorithm.callback.data_history"
      ]
    },
    {
      "cell_type": "code",
      "execution_count": 6,
      "metadata": {},
      "outputs": [],
      "source": [
        "## Run algo with 4 des and 3 obj\n",
        "\n",
        "\n",
        "# Objective Function - build neural network, fit the net, and check accuracy on test data\n",
        "def obj_func_2(n_first_layer ,n_hidden ,s_hidden, n_epochs): \n",
        "  set_seed(5)\n",
        "  # define model\n",
        "  model = Sequential()\n",
        "  model.add(Dense(n_first_layer, input_dim=28, activation='relu', input_shape=(28,))) #,kernel_initializer=initializers.Zeros\n",
        "  for i in range(n_hidden):\n",
        "    model.add(Dense(s_hidden, activation='relu'))\n",
        "  model.add(Dense(5, activation='softmax'))\n",
        "  # model.summary()\n",
        "  trainableParams = np.sum([np.prod(v.get_shape()) for v in model.trainable_weights])\n",
        "  nonTrainableParams = np.sum([np.prod(v.get_shape()) for v in model.non_trainable_weights])\n",
        "  totalParams = trainableParams + nonTrainableParams\n",
        "\n",
        "  # compile the model\n",
        "  model.compile(optimizer='adam', loss='sparse_categorical_crossentropy', metrics=['accuracy']) \n",
        "  # fit the model\n",
        "  model.fit(X_train, y_train, epochs=n_epochs, batch_size=20, verbose=0)\n",
        "  # evaluate the model\n",
        "  loss, acc = model.evaluate(X_test, y_test, verbose=0)\n",
        "  \n",
        "  return(totalParams, round(acc*100,2), n_epochs)\n",
        "\n",
        "\n",
        "# #### for check - check the variance between runs\n",
        "# for j in range(1):\n",
        "#   # for k in range(5):\n",
        "#     n_hidden = 2\n",
        "#     s_hidden = 10\n",
        "#     s_first_layer = 3 \n",
        "#     n_epochs = 3\n",
        "\n",
        "#     num_of_param, acc, n_e = obj_func_2(s_first_layer,n_hidden,s_hidden,n_epochs)\n",
        "#     print(s_first_layer,n_hidden,s_hidden, n_e)\n",
        "#     print(num_of_param,acc, n_e)\n",
        "\n",
        "# print in every iteration at the minimize\n",
        "class MyOutput_2(Output):\n",
        "\n",
        "    def __init__(self):\n",
        "        super().__init__()\n",
        "        self.acc_ = Column(\"best acc\", width=10)\n",
        "        self.acc_w = Column(\"worst acc\", width=10)\n",
        "        self.par_ = Column(\"best params\", width=10)\n",
        "        self.par_w = Column(\"worst params\", width=10)\n",
        "        self.ep_ = Column(\"best epochs\", width=10)\n",
        "        self.ep_w = Column(\"worst epochs\", width=10)\n",
        "        self.columns += [self.acc_, self.acc_w, self.par_, self.par_w, self.ep_, self.ep_w]\n",
        "\n",
        "    def update(self, algorithm):\n",
        "        super().update(algorithm)\n",
        "        res = algorithm.pop.get(\"F\")\n",
        "        res = np.round(res, 2)\n",
        "        self.acc_.set(f'{np.min(res[:,0]):.2f}')\n",
        "        self.acc_w.set(f'{np.max(res[:,0]):.2f}')\n",
        "        self.par_.set(f'{np.min(res[:,1]):.0f}')\n",
        "        self.par_w.set(f'{np.max(res[:,1]):.0f}')\n",
        "        self.ep_.set(f'{np.min(res[:,2]):.0f}')\n",
        "        self.ep_w.set(f'{np.max(res[:,2]):.0f}')\n",
        "        # plt.scatter(res[:,0],res[:,1])\n",
        "        # plt.draw() # show()\n",
        "\n",
        "\n",
        "# save data for plots after the minimize\n",
        "class MyCallback_2(Callback):\n",
        "\n",
        "    def __init__(self) -> None:\n",
        "        super().__init__()\n",
        "        self.data[\"best\"] = []\n",
        "        self.index = 1\n",
        "        self.data_history = pd.DataFrame(columns=['Gen' ,'Design_1', 'Design_2', 'Design_3', 'Design_4', 'Objective_1', 'Objective_2', 'Objective_3'])\n",
        "\n",
        "    def notify(self, algorithm):\n",
        "        self.data[\"best\"].append(algorithm.pop.get(\"F\").min())\n",
        "        self.data_history = self.data_history.append({'Gen': self.index, 'Design_1':  np.round(algorithm.pop.get(\"X\")[:,0],0),\n",
        "                                                      'Design_2':  np.round(algorithm.pop.get(\"X\")[:,1],0),\n",
        "                                                      'Design_3':  np.round(algorithm.pop.get(\"X\")[:,2],0),\n",
        "                                                      'Design_4':  np.round(algorithm.pop.get(\"X\")[:,3],0),\n",
        "                                                      'Objective_1':  algorithm.pop.get(\"F\")[:,0],\n",
        "                                                      'Objective_2':  algorithm.pop.get(\"F\")[:,1],\n",
        "                                                      'Objective_3':  algorithm.pop.get(\"F\")[:,2]}, ignore_index=True)\n",
        "        self.index = self.index + 1\n",
        "\n",
        "\n",
        "# problem class\n",
        "class Net_Struct_Problem_2(Problem):\n",
        "      def __init__(self, **kwargs):\n",
        "          super().__init__(n_var=4, n_obj=3, n_ieq_constr=0,xl=[3, 1, 1, 1], xu=[50, 14,50,100], vtype=int)\n",
        "          \n",
        "      def _evaluate(self, X, out, *args, **kwargs):\n",
        "          num_params = []\n",
        "          acc_ = []\n",
        "          ep_ = []\n",
        "          X = np.round(X)\n",
        "          for x in X:\n",
        "            e, f, n, s = int(x[0]), int(x[1]), int(x[2]), int(x[3])\n",
        "            t_param, acc, ep = obj_func_2(f, n, s, e)\n",
        "            acc_.append(acc)\n",
        "            num_params.append(t_param)\n",
        "            ep_.append(ep)\n",
        "          acc_ = np.array(acc_)\n",
        "          num_params = np.array(num_params)\n",
        "          ep_ = np.array(ep_)\n",
        "          out['F'] =  [-acc_, num_params, ep_]\n",
        "\n",
        "\n",
        "\n",
        "def get_obj(res, i):  \n",
        "  ddes_1 = res.algorithm.callback.data_history['Design_1']\n",
        "  ddes_1 = ddes_1[i][:]\n",
        "  ddes_2 = res.algorithm.callback.data_history['Design_2']\n",
        "  ddes_2 = ddes_2[i][:]\n",
        "  ddes_3 = res.algorithm.callback.data_history['Design_3']\n",
        "  ddes_3 = ddes_3[i][:]\n",
        "  ddes_4 = res.algorithm.callback.data_history['Design_4']\n",
        "  ddes_4 = ddes_4[i][:]\n",
        "  oobj_1 = res.algorithm.callback.data_history['Objective_1']\n",
        "  oobj_1 = oobj_1[i][:]\n",
        "  oobj_2 = res.algorithm.callback.data_history['Objective_2']\n",
        "  oobj_2 = oobj_2[i][:]\n",
        "  oobj_3 = res.algorithm.callback.data_history['Objective_3']\n",
        "  oobj_3 = oobj_3[i][:]\n",
        "  return oobj_1, oobj_2, oobj_3\n",
        "\n",
        "\n",
        "\n",
        "\n"
      ]
    },
    {
      "cell_type": "code",
      "execution_count": 11,
      "metadata": {},
      "outputs": [
        {
          "name": "stdout",
          "output_type": "stream",
          "text": [
            "=====================================================================================================\n",
            "n_gen  |  n_eval  |  best acc  | worst acc  | best params | worst params | best epochs | worst epochs\n",
            "=====================================================================================================\n",
            "     1 |      120 |     -92.80 |     -20.00 |        578 |     496924 |          3 |         50\n",
            "     2 |      240 |     -92.80 |     -20.00 |        163 |     272129 |          3 |         48\n",
            "     3 |      360 |     -94.80 |     -20.00 |         78 |     246681 |          3 |         47\n",
            "     4 |      480 |     -94.80 |     -20.00 |         78 |     246071 |          3 |         47\n",
            "     5 |      600 |     -94.80 |     -20.00 |         51 |     246071 |          3 |         48\n",
            "     6 |      720 |     -94.80 |     -19.60 |         51 |     231599 |          3 |         48\n",
            "     7 |      840 |     -94.80 |     -20.00 |         51 |     231599 |          3 |         48\n",
            "     8 |      960 |     -94.80 |     -20.00 |         49 |     231599 |          3 |         48\n",
            "     9 |     1080 |     -94.80 |     -17.20 |         48 |     231599 |          3 |         48\n",
            "    10 |     1200 |     -96.80 |     -20.00 |         45 |     231599 |          3 |         48\n",
            "    11 |     1320 |     -96.80 |     -20.00 |         41 |     231599 |          3 |         48\n",
            "    12 |     1440 |     -96.80 |     -20.00 |         41 |     231599 |          3 |         48\n",
            "    13 |     1560 |     -96.80 |     -20.00 |         41 |     231599 |          3 |         48\n",
            "    14 |     1680 |     -96.80 |     -20.00 |         41 |     231599 |          3 |         48\n",
            "    15 |     1800 |     -96.80 |     -20.00 |         41 |     231599 |          3 |         48\n",
            "    16 |     1920 |     -96.80 |     -20.00 |         41 |     231599 |          3 |         48\n",
            "    17 |     2040 |     -96.80 |     -20.80 |         41 |     231599 |          3 |         48\n",
            "    18 |     2160 |     -96.80 |     -20.80 |         41 |     231599 |          3 |         48\n",
            "    19 |     2280 |     -96.80 |     -20.80 |         41 |     231599 |          3 |         48\n",
            "    20 |     2400 |     -96.80 |     -20.80 |         41 |     231599 |          3 |         48\n"
          ]
        }
      ],
      "source": [
        "problem_2 = Net_Struct_Problem_2()\n",
        "\n",
        "algorithm_n_2 = NSGA2(pop_size=120) # 120*20 , 60*5= 50min\n",
        "\n",
        "stop_criteria_2 = ('n_gen', 20)\n",
        "\n",
        "results_NSGA2_3_obj = minimize(\n",
        "    problem=problem_2,\n",
        "    algorithm=algorithm_n_2,\n",
        "    callback=MyCallback_2(),\n",
        "    output=MyOutput_2(),\n",
        "    termination=stop_criteria_2,\n",
        "    save_history=True,\n",
        "    verbose=True\n",
        ")"
      ]
    },
    {
      "cell_type": "code",
      "execution_count": null,
      "metadata": {},
      "outputs": [],
      "source": [
        "fig = plt.figure(figsize=(20,5))\n",
        "ax = fig.add_subplot(131,projection='3d')\n",
        "oobj_1, oobj_2, oobj_3 = get_obj(results_NSGA2_3_obj, 4)\n",
        "ax.scatter(oobj_1, oobj_2, oobj_3,color=['black'])\n",
        "# ax.set_xlabel('-Accuracy[%]',fontsize=4)\n",
        "# ax.set_ylabel('Number of parameters',fontsize=4)\n",
        "# ax.set_zlabel('Number of epochs',fontsize=4)\n",
        "ax.set_title('Objective Space gen 5',fontsize=12)\n",
        "ax2 = fig.add_subplot(132,projection='3d')\n",
        "oobj_1, oobj_2, oobj_3 = get_obj(results_NSGA2_3_obj, 2)\n",
        "ax2.scatter(oobj_1, oobj_2, oobj_3,color=['black'])\n",
        "ax2.set_title('Objective Space gen 3',fontsize=12)\n",
        "ax3 = fig.add_subplot(133,projection='3d')\n",
        "oobj_1, oobj_2, oobj_3 = get_obj(results_NSGA2_3_obj, 0)\n",
        "ax3.scatter(oobj_1, oobj_2, oobj_3,color=['black'])\n",
        "ax3.set_title('Objective Space gen 1',fontsize=12)\n",
        "\n",
        "\n",
        "plt.show()"
      ]
    },
    {
      "cell_type": "code",
      "execution_count": null,
      "metadata": {},
      "outputs": [],
      "source": [
        "fig = plt.figure(figsize=(12,8))\n",
        "ax = fig.add_subplot(111,projection='3d')\n",
        "ax.scatter(results_NSGA2_3_obj.F[:,0],results_NSGA2_3_obj.F[:,1], results_NSGA2_3_obj.F[:,2],color=['black'], marker=\"*\")\n",
        "ax.set_xlabel('-Accuracy[%]',fontsize=16)\n",
        "ax.set_ylabel('Number of parameters',fontsize=16)\n",
        "ax.set_zlabel('Number of epochs',fontsize=16)\n",
        "ax.set_title('Pareto Front',fontsize=20)\n",
        "\n",
        "plt.show()"
      ]
    },
    {
      "cell_type": "code",
      "execution_count": 12,
      "metadata": {},
      "outputs": [],
      "source": [
        "\n",
        "with open(f'res_nsga_3_obj.pkl', 'wb') as f:\n",
        "    pickle.dump(results_NSGA2_3_obj, f)\n",
        "\n",
        "  # with open(f'res_moead_{i+21}.pkl', 'wb') as l:\n",
        "  #   pickle.dump(results_MOEAD, l)"
      ]
    },
    {
      "cell_type": "code",
      "execution_count": 14,
      "metadata": {},
      "outputs": [
        {
          "data": {
            "text/html": [
              "<div>\n",
              "<style scoped>\n",
              "    .dataframe tbody tr th:only-of-type {\n",
              "        vertical-align: middle;\n",
              "    }\n",
              "\n",
              "    .dataframe tbody tr th {\n",
              "        vertical-align: top;\n",
              "    }\n",
              "\n",
              "    .dataframe thead th {\n",
              "        text-align: right;\n",
              "    }\n",
              "</style>\n",
              "<table border=\"1\" class=\"dataframe\">\n",
              "  <thead>\n",
              "    <tr style=\"text-align: right;\">\n",
              "      <th></th>\n",
              "      <th>Gen</th>\n",
              "      <th>Design_1</th>\n",
              "      <th>Design_2</th>\n",
              "      <th>Design_3</th>\n",
              "      <th>Design_4</th>\n",
              "      <th>Objective_1</th>\n",
              "      <th>Objective_2</th>\n",
              "      <th>Objective_3</th>\n",
              "    </tr>\n",
              "  </thead>\n",
              "  <tbody>\n",
              "    <tr>\n",
              "      <th>0</th>\n",
              "      <td>1</td>\n",
              "      <td>[12.0, 23.0, 38.0, 4.0, 32.0, 5.0, 29.0, 16.0,...</td>\n",
              "      <td>[2.0, 7.0, 9.0, 11.0, 3.0, 8.0, 12.0, 6.0, 10....</td>\n",
              "      <td>[1.0, 15.0, 4.0, 19.0, 1.0, 21.0, 6.0, 15.0, 5...</td>\n",
              "      <td>[94.0, 5.0, 10.0, 77.0, 54.0, 8.0, 60.0, 43.0,...</td>\n",
              "      <td>[-66.8, -20.0, -81.6, -74.0, -79.6, -47.2, -79...</td>\n",
              "      <td>[815.0, 693.0, 746.0, 109741.0, 578.0, 1789.0,...</td>\n",
              "      <td>[12.0, 23.0, 38.0, 4.0, 32.0, 5.0, 29.0, 16.0,...</td>\n",
              "    </tr>\n",
              "    <tr>\n",
              "      <th>1</th>\n",
              "      <td>2</td>\n",
              "      <td>[12.0, 38.0, 4.0, 32.0, 5.0, 16.0, 35.0, 8.0, ...</td>\n",
              "      <td>[2.0, 9.0, 11.0, 3.0, 8.0, 6.0, 10.0, 10.0, 9....</td>\n",
              "      <td>[1.0, 4.0, 19.0, 1.0, 21.0, 15.0, 5.0, 10.0, 5...</td>\n",
              "      <td>[94.0, 10.0, 77.0, 54.0, 8.0, 43.0, 17.0, 87.0...</td>\n",
              "      <td>[-66.8, -81.6, -74.0, -79.6, -47.2, -92.8, -88...</td>\n",
              "      <td>[815.0, 746.0, 109741.0, 578.0, 1789.0, 27183....</td>\n",
              "      <td>[12.0, 38.0, 4.0, 32.0, 5.0, 16.0, 35.0, 8.0, ...</td>\n",
              "    </tr>\n",
              "    <tr>\n",
              "      <th>2</th>\n",
              "      <td>3</td>\n",
              "      <td>[12.0, 38.0, 4.0, 32.0, 16.0, 35.0, 8.0, 12.0,...</td>\n",
              "      <td>[2.0, 9.0, 11.0, 3.0, 6.0, 10.0, 10.0, 3.0, 2....</td>\n",
              "      <td>[1.0, 4.0, 19.0, 1.0, 15.0, 5.0, 10.0, 1.0, 12...</td>\n",
              "      <td>[94.0, 10.0, 77.0, 54.0, 43.0, 17.0, 87.0, 94....</td>\n",
              "      <td>[-66.8, -81.6, -74.0, -79.6, -92.8, -88.8, -88...</td>\n",
              "      <td>[815.0, 746.0, 109741.0, 578.0, 27183.0, 1791....</td>\n",
              "      <td>[12.0, 38.0, 4.0, 32.0, 16.0, 35.0, 8.0, 12.0,...</td>\n",
              "    </tr>\n",
              "    <tr>\n",
              "      <th>3</th>\n",
              "      <td>4</td>\n",
              "      <td>[38.0, 4.0, 32.0, 16.0, 35.0, 8.0, 12.0, 42.0,...</td>\n",
              "      <td>[9.0, 11.0, 3.0, 6.0, 10.0, 10.0, 3.0, 9.0, 4....</td>\n",
              "      <td>[4.0, 19.0, 1.0, 15.0, 5.0, 10.0, 1.0, 2.0, 2....</td>\n",
              "      <td>[10.0, 77.0, 54.0, 43.0, 17.0, 87.0, 94.0, 7.0...</td>\n",
              "      <td>[-81.6, -74.0, -79.6, -92.8, -88.8, -88.4, -75...</td>\n",
              "      <td>[746.0, 109741.0, 578.0, 27183.0, 1791.0, 7059...</td>\n",
              "      <td>[38.0, 4.0, 32.0, 16.0, 35.0, 8.0, 12.0, 42.0,...</td>\n",
              "    </tr>\n",
              "    <tr>\n",
              "      <th>4</th>\n",
              "      <td>5</td>\n",
              "      <td>[12.0, 7.0, 8.0, 7.0, 40.0, 8.0, 7.0, 22.0, 14...</td>\n",
              "      <td>[3.0, 9.0, 9.0, 2.0, 9.0, 9.0, 5.0, 12.0, 3.0,...</td>\n",
              "      <td>[1.0, 5.0, 11.0, 15.0, 5.0, 4.0, 15.0, 31.0, 1...</td>\n",
              "      <td>[94.0, 10.0, 23.0, 2.0, 6.0, 7.0, 24.0, 87.0, ...</td>\n",
              "      <td>[-75.2, -62.4, -82.0, -20.0, -86.0, -61.2, -85...</td>\n",
              "      <td>[938.0, 856.0, 6131.0, 163.0, 524.0, 539.0, 88...</td>\n",
              "      <td>[12.0, 7.0, 8.0, 7.0, 40.0, 8.0, 7.0, 22.0, 14...</td>\n",
              "    </tr>\n",
              "    <tr>\n",
              "      <th>5</th>\n",
              "      <td>6</td>\n",
              "      <td>[12.0, 40.0, 7.0, 22.0, 14.0, 19.0, 12.0, 39.0...</td>\n",
              "      <td>[3.0, 9.0, 5.0, 12.0, 3.0, 12.0, 10.0, 9.0, 6....</td>\n",
              "      <td>[1.0, 5.0, 15.0, 31.0, 1.0, 1.0, 1.0, 4.0, 7.0...</td>\n",
              "      <td>[94.0, 6.0, 24.0, 87.0, 93.0, 22.0, 94.0, 10.0...</td>\n",
              "      <td>[-75.2, -86.0, -85.6, -94.8, -86.8, -86.8, -80...</td>\n",
              "      <td>[938.0, 524.0, 8814.0, 231599.0, 929.0, 749.0,...</td>\n",
              "      <td>[12.0, 40.0, 7.0, 22.0, 14.0, 19.0, 12.0, 39.0...</td>\n",
              "    </tr>\n",
              "    <tr>\n",
              "      <th>6</th>\n",
              "      <td>7</td>\n",
              "      <td>[12.0, 40.0, 22.0, 14.0, 12.0, 5.0, 47.0, 47.0...</td>\n",
              "      <td>[3.0, 9.0, 12.0, 3.0, 10.0, 6.0, 3.0, 11.0, 9....</td>\n",
              "      <td>[1.0, 5.0, 31.0, 1.0, 1.0, 7.0, 1.0, 2.0, 4.0,...</td>\n",
              "      <td>[94.0, 6.0, 87.0, 93.0, 94.0, 3.0, 53.0, 3.0, ...</td>\n",
              "      <td>[-75.2, -86.0, -94.8, -86.8, -80.4, -48.0, -92...</td>\n",
              "      <td>[938.0, 524.0, 231599.0, 929.0, 1799.0, 287.0,...</td>\n",
              "      <td>[12.0, 40.0, 22.0, 14.0, 12.0, 5.0, 47.0, 47.0...</td>\n",
              "    </tr>\n",
              "    <tr>\n",
              "      <th>7</th>\n",
              "      <td>8</td>\n",
              "      <td>[22.0, 14.0, 5.0, 3.0, 16.0, 22.0, 21.0, 5.0, ...</td>\n",
              "      <td>[12.0, 3.0, 6.0, 9.0, 6.0, 2.0, 1.0, 9.0, 3.0,...</td>\n",
              "      <td>[31.0, 1.0, 7.0, 4.0, 1.0, 1.0, 6.0, 4.0, 2.0,...</td>\n",
              "      <td>[87.0, 93.0, 3.0, 58.0, 43.0, 2.0, 1.0, 77.0, ...</td>\n",
              "      <td>[-94.8, -86.8, -48.0, -84.8, -80.4, -66.4, -20...</td>\n",
              "      <td>[231599.0, 929.0, 287.0, 11402.0, 695.0, 79.0,...</td>\n",
              "      <td>[22.0, 14.0, 5.0, 3.0, 16.0, 22.0, 21.0, 5.0, ...</td>\n",
              "    </tr>\n",
              "    <tr>\n",
              "      <th>8</th>\n",
              "      <td>9</td>\n",
              "      <td>[22.0, 14.0, 3.0, 22.0, 21.0, 5.0, 3.0, 21.0, ...</td>\n",
              "      <td>[12.0, 3.0, 9.0, 2.0, 1.0, 9.0, 3.0, 2.0, 6.0,...</td>\n",
              "      <td>[31.0, 1.0, 4.0, 1.0, 6.0, 4.0, 2.0, 2.0, 5.0,...</td>\n",
              "      <td>[87.0, 93.0, 58.0, 2.0, 1.0, 77.0, 97.0, 2.0, ...</td>\n",
              "      <td>[-94.8, -86.8, -84.8, -66.4, -20.0, -93.6, -76...</td>\n",
              "      <td>[231599.0, 929.0, 11402.0, 79.0, 51.0, 19439.0...</td>\n",
              "      <td>[22.0, 14.0, 3.0, 22.0, 21.0, 5.0, 3.0, 21.0, ...</td>\n",
              "    </tr>\n",
              "    <tr>\n",
              "      <th>9</th>\n",
              "      <td>10</td>\n",
              "      <td>[22.0, 14.0, 3.0, 22.0, 5.0, 3.0, 21.0, 7.0, 3...</td>\n",
              "      <td>[12.0, 3.0, 9.0, 2.0, 9.0, 3.0, 2.0, 6.0, 11.0...</td>\n",
              "      <td>[31.0, 1.0, 4.0, 1.0, 4.0, 2.0, 2.0, 5.0, 5.0,...</td>\n",
              "      <td>[87.0, 93.0, 58.0, 2.0, 77.0, 97.0, 2.0, 7.0, ...</td>\n",
              "      <td>[-94.8, -86.8, -84.8, -66.4, -93.6, -76.0, -50...</td>\n",
              "      <td>[231599.0, 929.0, 11402.0, 79.0, 19439.0, 1047...</td>\n",
              "      <td>[22.0, 14.0, 3.0, 22.0, 5.0, 3.0, 21.0, 7.0, 3...</td>\n",
              "    </tr>\n",
              "    <tr>\n",
              "      <th>10</th>\n",
              "      <td>11</td>\n",
              "      <td>[22.0, 14.0, 3.0, 22.0, 5.0, 3.0, 21.0, 7.0, 3...</td>\n",
              "      <td>[12.0, 3.0, 9.0, 2.0, 9.0, 3.0, 2.0, 6.0, 11.0...</td>\n",
              "      <td>[31.0, 1.0, 4.0, 1.0, 4.0, 2.0, 2.0, 5.0, 5.0,...</td>\n",
              "      <td>[87.0, 93.0, 58.0, 2.0, 77.0, 97.0, 2.0, 7.0, ...</td>\n",
              "      <td>[-94.8, -86.8, -84.8, -66.4, -93.6, -76.0, -50...</td>\n",
              "      <td>[231599.0, 929.0, 11402.0, 79.0, 19439.0, 1047...</td>\n",
              "      <td>[22.0, 14.0, 3.0, 22.0, 5.0, 3.0, 21.0, 7.0, 3...</td>\n",
              "    </tr>\n",
              "    <tr>\n",
              "      <th>11</th>\n",
              "      <td>12</td>\n",
              "      <td>[22.0, 14.0, 3.0, 22.0, 5.0, 3.0, 7.0, 3.0, 7....</td>\n",
              "      <td>[12.0, 3.0, 9.0, 2.0, 9.0, 3.0, 6.0, 11.0, 7.0...</td>\n",
              "      <td>[31.0, 1.0, 4.0, 1.0, 4.0, 2.0, 5.0, 5.0, 2.0,...</td>\n",
              "      <td>[87.0, 93.0, 58.0, 2.0, 77.0, 97.0, 7.0, 87.0,...</td>\n",
              "      <td>[-94.8, -86.8, -84.8, -66.4, -93.6, -76.0, -72...</td>\n",
              "      <td>[231599.0, 929.0, 11402.0, 79.0, 19439.0, 1047...</td>\n",
              "      <td>[22.0, 14.0, 3.0, 22.0, 5.0, 3.0, 7.0, 3.0, 7....</td>\n",
              "    </tr>\n",
              "    <tr>\n",
              "      <th>12</th>\n",
              "      <td>13</td>\n",
              "      <td>[22.0, 14.0, 3.0, 22.0, 5.0, 3.0, 7.0, 3.0, 7....</td>\n",
              "      <td>[12.0, 3.0, 9.0, 2.0, 9.0, 3.0, 6.0, 11.0, 7.0...</td>\n",
              "      <td>[31.0, 1.0, 4.0, 1.0, 4.0, 2.0, 5.0, 5.0, 2.0,...</td>\n",
              "      <td>[87.0, 93.0, 58.0, 2.0, 77.0, 97.0, 7.0, 87.0,...</td>\n",
              "      <td>[-94.8, -86.8, -84.8, -66.4, -93.6, -76.0, -72...</td>\n",
              "      <td>[231599.0, 929.0, 11402.0, 79.0, 19439.0, 1047...</td>\n",
              "      <td>[22.0, 14.0, 3.0, 22.0, 5.0, 3.0, 7.0, 3.0, 7....</td>\n",
              "    </tr>\n",
              "    <tr>\n",
              "      <th>13</th>\n",
              "      <td>14</td>\n",
              "      <td>[22.0, 3.0, 22.0, 5.0, 7.0, 3.0, 7.0, 18.0, 6....</td>\n",
              "      <td>[12.0, 9.0, 2.0, 9.0, 6.0, 11.0, 7.0, 6.0, 12....</td>\n",
              "      <td>[31.0, 4.0, 1.0, 4.0, 5.0, 5.0, 2.0, 1.0, 6.0,...</td>\n",
              "      <td>[87.0, 58.0, 2.0, 77.0, 7.0, 87.0, 7.0, 43.0, ...</td>\n",
              "      <td>[-94.8, -84.8, -66.4, -93.6, -72.4, -88.8, -68...</td>\n",
              "      <td>[231599.0, 11402.0, 79.0, 19439.0, 487.0, 3242...</td>\n",
              "      <td>[22.0, 3.0, 22.0, 5.0, 7.0, 3.0, 7.0, 18.0, 6....</td>\n",
              "    </tr>\n",
              "    <tr>\n",
              "      <th>14</th>\n",
              "      <td>15</td>\n",
              "      <td>[22.0, 3.0, 22.0, 5.0, 7.0, 3.0, 7.0, 18.0, 6....</td>\n",
              "      <td>[12.0, 9.0, 2.0, 9.0, 6.0, 11.0, 7.0, 6.0, 12....</td>\n",
              "      <td>[31.0, 4.0, 1.0, 4.0, 5.0, 5.0, 2.0, 1.0, 6.0,...</td>\n",
              "      <td>[87.0, 58.0, 2.0, 77.0, 7.0, 87.0, 7.0, 43.0, ...</td>\n",
              "      <td>[-94.8, -84.8, -66.4, -93.6, -72.4, -88.8, -68...</td>\n",
              "      <td>[231599.0, 11402.0, 79.0, 19439.0, 487.0, 3242...</td>\n",
              "      <td>[22.0, 3.0, 22.0, 5.0, 7.0, 3.0, 7.0, 18.0, 6....</td>\n",
              "    </tr>\n",
              "    <tr>\n",
              "      <th>15</th>\n",
              "      <td>16</td>\n",
              "      <td>[22.0, 3.0, 22.0, 5.0, 7.0, 3.0, 7.0, 18.0, 6....</td>\n",
              "      <td>[12.0, 9.0, 2.0, 9.0, 6.0, 11.0, 7.0, 6.0, 12....</td>\n",
              "      <td>[31.0, 4.0, 1.0, 4.0, 5.0, 5.0, 2.0, 1.0, 6.0,...</td>\n",
              "      <td>[87.0, 58.0, 2.0, 77.0, 7.0, 87.0, 7.0, 43.0, ...</td>\n",
              "      <td>[-94.8, -84.8, -66.4, -93.6, -72.4, -88.8, -68...</td>\n",
              "      <td>[231599.0, 11402.0, 79.0, 19439.0, 487.0, 3242...</td>\n",
              "      <td>[22.0, 3.0, 22.0, 5.0, 7.0, 3.0, 7.0, 18.0, 6....</td>\n",
              "    </tr>\n",
              "    <tr>\n",
              "      <th>16</th>\n",
              "      <td>17</td>\n",
              "      <td>[22.0, 3.0, 22.0, 5.0, 7.0, 3.0, 7.0, 18.0, 6....</td>\n",
              "      <td>[12.0, 9.0, 2.0, 9.0, 6.0, 11.0, 7.0, 6.0, 12....</td>\n",
              "      <td>[31.0, 4.0, 1.0, 4.0, 5.0, 5.0, 2.0, 1.0, 6.0,...</td>\n",
              "      <td>[87.0, 58.0, 2.0, 77.0, 7.0, 87.0, 7.0, 43.0, ...</td>\n",
              "      <td>[-94.8, -84.8, -66.4, -93.6, -72.4, -88.8, -68...</td>\n",
              "      <td>[231599.0, 11402.0, 79.0, 19439.0, 487.0, 3242...</td>\n",
              "      <td>[22.0, 3.0, 22.0, 5.0, 7.0, 3.0, 7.0, 18.0, 6....</td>\n",
              "    </tr>\n",
              "    <tr>\n",
              "      <th>17</th>\n",
              "      <td>18</td>\n",
              "      <td>[22.0, 3.0, 22.0, 5.0, 7.0, 3.0, 7.0, 18.0, 6....</td>\n",
              "      <td>[12.0, 9.0, 2.0, 9.0, 6.0, 11.0, 7.0, 6.0, 12....</td>\n",
              "      <td>[31.0, 4.0, 1.0, 4.0, 5.0, 5.0, 2.0, 1.0, 6.0,...</td>\n",
              "      <td>[87.0, 58.0, 2.0, 77.0, 7.0, 87.0, 7.0, 43.0, ...</td>\n",
              "      <td>[-94.8, -84.8, -66.4, -93.6, -72.4, -88.8, -68...</td>\n",
              "      <td>[231599.0, 11402.0, 79.0, 19439.0, 487.0, 3242...</td>\n",
              "      <td>[22.0, 3.0, 22.0, 5.0, 7.0, 3.0, 7.0, 18.0, 6....</td>\n",
              "    </tr>\n",
              "    <tr>\n",
              "      <th>18</th>\n",
              "      <td>19</td>\n",
              "      <td>[3.0, 22.0, 5.0, 7.0, 3.0, 7.0, 18.0, 6.0, 4.0...</td>\n",
              "      <td>[9.0, 2.0, 9.0, 6.0, 11.0, 7.0, 6.0, 12.0, 11....</td>\n",
              "      <td>[4.0, 1.0, 4.0, 5.0, 5.0, 2.0, 1.0, 6.0, 1.0, ...</td>\n",
              "      <td>[58.0, 2.0, 77.0, 7.0, 87.0, 7.0, 43.0, 26.0, ...</td>\n",
              "      <td>[-84.8, -66.4, -93.6, -72.4, -88.8, -68.4, -93...</td>\n",
              "      <td>[11402.0, 79.0, 19439.0, 487.0, 32427.0, 355.0...</td>\n",
              "      <td>[3.0, 22.0, 5.0, 7.0, 3.0, 7.0, 18.0, 6.0, 4.0...</td>\n",
              "    </tr>\n",
              "    <tr>\n",
              "      <th>19</th>\n",
              "      <td>20</td>\n",
              "      <td>[3.0, 22.0, 5.0, 7.0, 3.0, 7.0, 18.0, 6.0, 4.0...</td>\n",
              "      <td>[9.0, 2.0, 9.0, 6.0, 11.0, 7.0, 6.0, 12.0, 11....</td>\n",
              "      <td>[4.0, 1.0, 4.0, 5.0, 5.0, 2.0, 1.0, 6.0, 1.0, ...</td>\n",
              "      <td>[58.0, 2.0, 77.0, 7.0, 87.0, 7.0, 43.0, 26.0, ...</td>\n",
              "      <td>[-84.8, -66.4, -93.6, -72.4, -88.8, -68.4, -93...</td>\n",
              "      <td>[11402.0, 79.0, 19439.0, 487.0, 32427.0, 355.0...</td>\n",
              "      <td>[3.0, 22.0, 5.0, 7.0, 3.0, 7.0, 18.0, 6.0, 4.0...</td>\n",
              "    </tr>\n",
              "  </tbody>\n",
              "</table>\n",
              "</div>"
            ],
            "text/plain": [
              "   Gen                                           Design_1  \\\n",
              "0    1  [12.0, 23.0, 38.0, 4.0, 32.0, 5.0, 29.0, 16.0,...   \n",
              "1    2  [12.0, 38.0, 4.0, 32.0, 5.0, 16.0, 35.0, 8.0, ...   \n",
              "2    3  [12.0, 38.0, 4.0, 32.0, 16.0, 35.0, 8.0, 12.0,...   \n",
              "3    4  [38.0, 4.0, 32.0, 16.0, 35.0, 8.0, 12.0, 42.0,...   \n",
              "4    5  [12.0, 7.0, 8.0, 7.0, 40.0, 8.0, 7.0, 22.0, 14...   \n",
              "5    6  [12.0, 40.0, 7.0, 22.0, 14.0, 19.0, 12.0, 39.0...   \n",
              "6    7  [12.0, 40.0, 22.0, 14.0, 12.0, 5.0, 47.0, 47.0...   \n",
              "7    8  [22.0, 14.0, 5.0, 3.0, 16.0, 22.0, 21.0, 5.0, ...   \n",
              "8    9  [22.0, 14.0, 3.0, 22.0, 21.0, 5.0, 3.0, 21.0, ...   \n",
              "9   10  [22.0, 14.0, 3.0, 22.0, 5.0, 3.0, 21.0, 7.0, 3...   \n",
              "10  11  [22.0, 14.0, 3.0, 22.0, 5.0, 3.0, 21.0, 7.0, 3...   \n",
              "11  12  [22.0, 14.0, 3.0, 22.0, 5.0, 3.0, 7.0, 3.0, 7....   \n",
              "12  13  [22.0, 14.0, 3.0, 22.0, 5.0, 3.0, 7.0, 3.0, 7....   \n",
              "13  14  [22.0, 3.0, 22.0, 5.0, 7.0, 3.0, 7.0, 18.0, 6....   \n",
              "14  15  [22.0, 3.0, 22.0, 5.0, 7.0, 3.0, 7.0, 18.0, 6....   \n",
              "15  16  [22.0, 3.0, 22.0, 5.0, 7.0, 3.0, 7.0, 18.0, 6....   \n",
              "16  17  [22.0, 3.0, 22.0, 5.0, 7.0, 3.0, 7.0, 18.0, 6....   \n",
              "17  18  [22.0, 3.0, 22.0, 5.0, 7.0, 3.0, 7.0, 18.0, 6....   \n",
              "18  19  [3.0, 22.0, 5.0, 7.0, 3.0, 7.0, 18.0, 6.0, 4.0...   \n",
              "19  20  [3.0, 22.0, 5.0, 7.0, 3.0, 7.0, 18.0, 6.0, 4.0...   \n",
              "\n",
              "                                             Design_2  \\\n",
              "0   [2.0, 7.0, 9.0, 11.0, 3.0, 8.0, 12.0, 6.0, 10....   \n",
              "1   [2.0, 9.0, 11.0, 3.0, 8.0, 6.0, 10.0, 10.0, 9....   \n",
              "2   [2.0, 9.0, 11.0, 3.0, 6.0, 10.0, 10.0, 3.0, 2....   \n",
              "3   [9.0, 11.0, 3.0, 6.0, 10.0, 10.0, 3.0, 9.0, 4....   \n",
              "4   [3.0, 9.0, 9.0, 2.0, 9.0, 9.0, 5.0, 12.0, 3.0,...   \n",
              "5   [3.0, 9.0, 5.0, 12.0, 3.0, 12.0, 10.0, 9.0, 6....   \n",
              "6   [3.0, 9.0, 12.0, 3.0, 10.0, 6.0, 3.0, 11.0, 9....   \n",
              "7   [12.0, 3.0, 6.0, 9.0, 6.0, 2.0, 1.0, 9.0, 3.0,...   \n",
              "8   [12.0, 3.0, 9.0, 2.0, 1.0, 9.0, 3.0, 2.0, 6.0,...   \n",
              "9   [12.0, 3.0, 9.0, 2.0, 9.0, 3.0, 2.0, 6.0, 11.0...   \n",
              "10  [12.0, 3.0, 9.0, 2.0, 9.0, 3.0, 2.0, 6.0, 11.0...   \n",
              "11  [12.0, 3.0, 9.0, 2.0, 9.0, 3.0, 6.0, 11.0, 7.0...   \n",
              "12  [12.0, 3.0, 9.0, 2.0, 9.0, 3.0, 6.0, 11.0, 7.0...   \n",
              "13  [12.0, 9.0, 2.0, 9.0, 6.0, 11.0, 7.0, 6.0, 12....   \n",
              "14  [12.0, 9.0, 2.0, 9.0, 6.0, 11.0, 7.0, 6.0, 12....   \n",
              "15  [12.0, 9.0, 2.0, 9.0, 6.0, 11.0, 7.0, 6.0, 12....   \n",
              "16  [12.0, 9.0, 2.0, 9.0, 6.0, 11.0, 7.0, 6.0, 12....   \n",
              "17  [12.0, 9.0, 2.0, 9.0, 6.0, 11.0, 7.0, 6.0, 12....   \n",
              "18  [9.0, 2.0, 9.0, 6.0, 11.0, 7.0, 6.0, 12.0, 11....   \n",
              "19  [9.0, 2.0, 9.0, 6.0, 11.0, 7.0, 6.0, 12.0, 11....   \n",
              "\n",
              "                                             Design_3  \\\n",
              "0   [1.0, 15.0, 4.0, 19.0, 1.0, 21.0, 6.0, 15.0, 5...   \n",
              "1   [1.0, 4.0, 19.0, 1.0, 21.0, 15.0, 5.0, 10.0, 5...   \n",
              "2   [1.0, 4.0, 19.0, 1.0, 15.0, 5.0, 10.0, 1.0, 12...   \n",
              "3   [4.0, 19.0, 1.0, 15.0, 5.0, 10.0, 1.0, 2.0, 2....   \n",
              "4   [1.0, 5.0, 11.0, 15.0, 5.0, 4.0, 15.0, 31.0, 1...   \n",
              "5   [1.0, 5.0, 15.0, 31.0, 1.0, 1.0, 1.0, 4.0, 7.0...   \n",
              "6   [1.0, 5.0, 31.0, 1.0, 1.0, 7.0, 1.0, 2.0, 4.0,...   \n",
              "7   [31.0, 1.0, 7.0, 4.0, 1.0, 1.0, 6.0, 4.0, 2.0,...   \n",
              "8   [31.0, 1.0, 4.0, 1.0, 6.0, 4.0, 2.0, 2.0, 5.0,...   \n",
              "9   [31.0, 1.0, 4.0, 1.0, 4.0, 2.0, 2.0, 5.0, 5.0,...   \n",
              "10  [31.0, 1.0, 4.0, 1.0, 4.0, 2.0, 2.0, 5.0, 5.0,...   \n",
              "11  [31.0, 1.0, 4.0, 1.0, 4.0, 2.0, 5.0, 5.0, 2.0,...   \n",
              "12  [31.0, 1.0, 4.0, 1.0, 4.0, 2.0, 5.0, 5.0, 2.0,...   \n",
              "13  [31.0, 4.0, 1.0, 4.0, 5.0, 5.0, 2.0, 1.0, 6.0,...   \n",
              "14  [31.0, 4.0, 1.0, 4.0, 5.0, 5.0, 2.0, 1.0, 6.0,...   \n",
              "15  [31.0, 4.0, 1.0, 4.0, 5.0, 5.0, 2.0, 1.0, 6.0,...   \n",
              "16  [31.0, 4.0, 1.0, 4.0, 5.0, 5.0, 2.0, 1.0, 6.0,...   \n",
              "17  [31.0, 4.0, 1.0, 4.0, 5.0, 5.0, 2.0, 1.0, 6.0,...   \n",
              "18  [4.0, 1.0, 4.0, 5.0, 5.0, 2.0, 1.0, 6.0, 1.0, ...   \n",
              "19  [4.0, 1.0, 4.0, 5.0, 5.0, 2.0, 1.0, 6.0, 1.0, ...   \n",
              "\n",
              "                                             Design_4  \\\n",
              "0   [94.0, 5.0, 10.0, 77.0, 54.0, 8.0, 60.0, 43.0,...   \n",
              "1   [94.0, 10.0, 77.0, 54.0, 8.0, 43.0, 17.0, 87.0...   \n",
              "2   [94.0, 10.0, 77.0, 54.0, 43.0, 17.0, 87.0, 94....   \n",
              "3   [10.0, 77.0, 54.0, 43.0, 17.0, 87.0, 94.0, 7.0...   \n",
              "4   [94.0, 10.0, 23.0, 2.0, 6.0, 7.0, 24.0, 87.0, ...   \n",
              "5   [94.0, 6.0, 24.0, 87.0, 93.0, 22.0, 94.0, 10.0...   \n",
              "6   [94.0, 6.0, 87.0, 93.0, 94.0, 3.0, 53.0, 3.0, ...   \n",
              "7   [87.0, 93.0, 3.0, 58.0, 43.0, 2.0, 1.0, 77.0, ...   \n",
              "8   [87.0, 93.0, 58.0, 2.0, 1.0, 77.0, 97.0, 2.0, ...   \n",
              "9   [87.0, 93.0, 58.0, 2.0, 77.0, 97.0, 2.0, 7.0, ...   \n",
              "10  [87.0, 93.0, 58.0, 2.0, 77.0, 97.0, 2.0, 7.0, ...   \n",
              "11  [87.0, 93.0, 58.0, 2.0, 77.0, 97.0, 7.0, 87.0,...   \n",
              "12  [87.0, 93.0, 58.0, 2.0, 77.0, 97.0, 7.0, 87.0,...   \n",
              "13  [87.0, 58.0, 2.0, 77.0, 7.0, 87.0, 7.0, 43.0, ...   \n",
              "14  [87.0, 58.0, 2.0, 77.0, 7.0, 87.0, 7.0, 43.0, ...   \n",
              "15  [87.0, 58.0, 2.0, 77.0, 7.0, 87.0, 7.0, 43.0, ...   \n",
              "16  [87.0, 58.0, 2.0, 77.0, 7.0, 87.0, 7.0, 43.0, ...   \n",
              "17  [87.0, 58.0, 2.0, 77.0, 7.0, 87.0, 7.0, 43.0, ...   \n",
              "18  [58.0, 2.0, 77.0, 7.0, 87.0, 7.0, 43.0, 26.0, ...   \n",
              "19  [58.0, 2.0, 77.0, 7.0, 87.0, 7.0, 43.0, 26.0, ...   \n",
              "\n",
              "                                          Objective_1  \\\n",
              "0   [-66.8, -20.0, -81.6, -74.0, -79.6, -47.2, -79...   \n",
              "1   [-66.8, -81.6, -74.0, -79.6, -47.2, -92.8, -88...   \n",
              "2   [-66.8, -81.6, -74.0, -79.6, -92.8, -88.8, -88...   \n",
              "3   [-81.6, -74.0, -79.6, -92.8, -88.8, -88.4, -75...   \n",
              "4   [-75.2, -62.4, -82.0, -20.0, -86.0, -61.2, -85...   \n",
              "5   [-75.2, -86.0, -85.6, -94.8, -86.8, -86.8, -80...   \n",
              "6   [-75.2, -86.0, -94.8, -86.8, -80.4, -48.0, -92...   \n",
              "7   [-94.8, -86.8, -48.0, -84.8, -80.4, -66.4, -20...   \n",
              "8   [-94.8, -86.8, -84.8, -66.4, -20.0, -93.6, -76...   \n",
              "9   [-94.8, -86.8, -84.8, -66.4, -93.6, -76.0, -50...   \n",
              "10  [-94.8, -86.8, -84.8, -66.4, -93.6, -76.0, -50...   \n",
              "11  [-94.8, -86.8, -84.8, -66.4, -93.6, -76.0, -72...   \n",
              "12  [-94.8, -86.8, -84.8, -66.4, -93.6, -76.0, -72...   \n",
              "13  [-94.8, -84.8, -66.4, -93.6, -72.4, -88.8, -68...   \n",
              "14  [-94.8, -84.8, -66.4, -93.6, -72.4, -88.8, -68...   \n",
              "15  [-94.8, -84.8, -66.4, -93.6, -72.4, -88.8, -68...   \n",
              "16  [-94.8, -84.8, -66.4, -93.6, -72.4, -88.8, -68...   \n",
              "17  [-94.8, -84.8, -66.4, -93.6, -72.4, -88.8, -68...   \n",
              "18  [-84.8, -66.4, -93.6, -72.4, -88.8, -68.4, -93...   \n",
              "19  [-84.8, -66.4, -93.6, -72.4, -88.8, -68.4, -93...   \n",
              "\n",
              "                                          Objective_2  \\\n",
              "0   [815.0, 693.0, 746.0, 109741.0, 578.0, 1789.0,...   \n",
              "1   [815.0, 746.0, 109741.0, 578.0, 1789.0, 27183....   \n",
              "2   [815.0, 746.0, 109741.0, 578.0, 27183.0, 1791....   \n",
              "3   [746.0, 109741.0, 578.0, 27183.0, 1791.0, 7059...   \n",
              "4   [938.0, 856.0, 6131.0, 163.0, 524.0, 539.0, 88...   \n",
              "5   [938.0, 524.0, 8814.0, 231599.0, 929.0, 749.0,...   \n",
              "6   [938.0, 524.0, 231599.0, 929.0, 1799.0, 287.0,...   \n",
              "7   [231599.0, 929.0, 287.0, 11402.0, 695.0, 79.0,...   \n",
              "8   [231599.0, 929.0, 11402.0, 79.0, 51.0, 19439.0...   \n",
              "9   [231599.0, 929.0, 11402.0, 79.0, 19439.0, 1047...   \n",
              "10  [231599.0, 929.0, 11402.0, 79.0, 19439.0, 1047...   \n",
              "11  [231599.0, 929.0, 11402.0, 79.0, 19439.0, 1047...   \n",
              "12  [231599.0, 929.0, 11402.0, 79.0, 19439.0, 1047...   \n",
              "13  [231599.0, 11402.0, 79.0, 19439.0, 487.0, 3242...   \n",
              "14  [231599.0, 11402.0, 79.0, 19439.0, 487.0, 3242...   \n",
              "15  [231599.0, 11402.0, 79.0, 19439.0, 487.0, 3242...   \n",
              "16  [231599.0, 11402.0, 79.0, 19439.0, 487.0, 3242...   \n",
              "17  [231599.0, 11402.0, 79.0, 19439.0, 487.0, 3242...   \n",
              "18  [11402.0, 79.0, 19439.0, 487.0, 32427.0, 355.0...   \n",
              "19  [11402.0, 79.0, 19439.0, 487.0, 32427.0, 355.0...   \n",
              "\n",
              "                                          Objective_3  \n",
              "0   [12.0, 23.0, 38.0, 4.0, 32.0, 5.0, 29.0, 16.0,...  \n",
              "1   [12.0, 38.0, 4.0, 32.0, 5.0, 16.0, 35.0, 8.0, ...  \n",
              "2   [12.0, 38.0, 4.0, 32.0, 16.0, 35.0, 8.0, 12.0,...  \n",
              "3   [38.0, 4.0, 32.0, 16.0, 35.0, 8.0, 12.0, 42.0,...  \n",
              "4   [12.0, 7.0, 8.0, 7.0, 40.0, 8.0, 7.0, 22.0, 14...  \n",
              "5   [12.0, 40.0, 7.0, 22.0, 14.0, 19.0, 12.0, 39.0...  \n",
              "6   [12.0, 40.0, 22.0, 14.0, 12.0, 5.0, 47.0, 47.0...  \n",
              "7   [22.0, 14.0, 5.0, 3.0, 16.0, 22.0, 21.0, 5.0, ...  \n",
              "8   [22.0, 14.0, 3.0, 22.0, 21.0, 5.0, 3.0, 21.0, ...  \n",
              "9   [22.0, 14.0, 3.0, 22.0, 5.0, 3.0, 21.0, 7.0, 3...  \n",
              "10  [22.0, 14.0, 3.0, 22.0, 5.0, 3.0, 21.0, 7.0, 3...  \n",
              "11  [22.0, 14.0, 3.0, 22.0, 5.0, 3.0, 7.0, 3.0, 7....  \n",
              "12  [22.0, 14.0, 3.0, 22.0, 5.0, 3.0, 7.0, 3.0, 7....  \n",
              "13  [22.0, 3.0, 22.0, 5.0, 7.0, 3.0, 7.0, 18.0, 6....  \n",
              "14  [22.0, 3.0, 22.0, 5.0, 7.0, 3.0, 7.0, 18.0, 6....  \n",
              "15  [22.0, 3.0, 22.0, 5.0, 7.0, 3.0, 7.0, 18.0, 6....  \n",
              "16  [22.0, 3.0, 22.0, 5.0, 7.0, 3.0, 7.0, 18.0, 6....  \n",
              "17  [22.0, 3.0, 22.0, 5.0, 7.0, 3.0, 7.0, 18.0, 6....  \n",
              "18  [3.0, 22.0, 5.0, 7.0, 3.0, 7.0, 18.0, 6.0, 4.0...  \n",
              "19  [3.0, 22.0, 5.0, 7.0, 3.0, 7.0, 18.0, 6.0, 4.0...  "
            ]
          },
          "execution_count": 14,
          "metadata": {},
          "output_type": "execute_result"
        }
      ],
      "source": [
        "with open('res_nsga_3_obj.pkl', 'rb') as f:\n",
        "  loaded_data = pickle.load(f)\n",
        "loaded_data.algorithm.callback.data_history"
      ]
    }
  ],
  "metadata": {
    "colab": {
      "provenance": [],
      "toc_visible": true
    },
    "kernelspec": {
      "display_name": "Python 3",
      "language": "python",
      "name": "python3"
    },
    "language_info": {
      "codemirror_mode": {
        "name": "ipython",
        "version": 3
      },
      "file_extension": ".py",
      "mimetype": "text/x-python",
      "name": "python",
      "nbconvert_exporter": "python",
      "pygments_lexer": "ipython3",
      "version": "3.9.13"
    },
    "vscode": {
      "interpreter": {
        "hash": "1f118093c7ccb2669882a9d1fbfe56f781e9a89a8339ba085e89dc18e6bbaf12"
      }
    }
  },
  "nbformat": 4,
  "nbformat_minor": 0
}
